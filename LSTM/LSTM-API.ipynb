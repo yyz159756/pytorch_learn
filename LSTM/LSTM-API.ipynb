{
 "cells": [
  {
   "cell_type": "code",
   "execution_count": 1,
   "outputs": [],
   "source": [
    "import torch\n",
    "import torch.nn as nn\n",
    "import torch.nn.functional as F"
   ],
   "metadata": {
    "collapsed": false,
    "pycharm": {
     "name": "#%%\n"
    }
   }
  },
  {
   "cell_type": "code",
   "execution_count": 10,
   "outputs": [
    {
     "name": "stdout",
     "output_type": "stream",
     "text": [
      "tensor([[[-0.2059,  0.1438,  0.1249, -0.0264,  0.1985],\n",
      "         [-0.4603,  0.2133,  0.1582,  0.0902,  0.1555],\n",
      "         [-0.3279,  0.0401,  0.3090,  0.2970,  0.0522]],\n",
      "\n",
      "        [[ 0.1563, -0.0870,  0.3491, -0.4463,  0.2803],\n",
      "         [-0.0320,  0.0439,  0.0579, -0.0663,  0.0803],\n",
      "         [-0.1279,  0.0895, -0.1000,  0.1765, -0.0133]]],\n",
      "       grad_fn=<TransposeBackward0>)\n",
      "tensor([[[-0.3279,  0.0401,  0.3090,  0.2970,  0.0522],\n",
      "         [-0.1279,  0.0895, -0.1000,  0.1765, -0.0133]]],\n",
      "       grad_fn=<StackBackward0>)\n",
      "weight_ih_l0 # # torch.Size([20, 4])\n",
      "weight_hh_l0 # # torch.Size([20, 5])\n",
      "bias_ih_l0 # # torch.Size([20])\n",
      "bias_hh_l0 # # torch.Size([20])\n"
     ]
    }
   ],
   "source": [
    "def test_lstm_api():\n",
    "    bs, t, i_size, h_size = 2, 3, 4, 5\n",
    "    inp = torch.randn(bs, t, i_size)\n",
    "    # 不需要训练\n",
    "    c0 = torch.randn(bs, h_size)\n",
    "    h0 = torch.randn(bs, h_size)\n",
    "\n",
    "    # 调用官方API\n",
    "    lstm_layer = nn.LSTM(i_size, h_size, batch_first=True)\n",
    "    output, (hn, cn) = lstm_layer(inp, (h0.unsqueeze(0), c0.unsqueeze(0)))\n",
    "    print(output)\n",
    "    print(hn)\n",
    "\n",
    "    for k, v in lstm_layer.named_parameters():\n",
    "        print(k, \"# #\", v.shape)\n",
    "\n",
    "\n",
    "test_lstm_api()"
   ],
   "metadata": {
    "collapsed": false,
    "pycharm": {
     "name": "#%%\n"
    }
   }
  }
 ],
 "metadata": {
  "kernelspec": {
   "display_name": "Python 3",
   "language": "python",
   "name": "python3"
  },
  "language_info": {
   "codemirror_mode": {
    "name": "ipython",
    "version": 2
   },
   "file_extension": ".py",
   "mimetype": "text/x-python",
   "name": "python",
   "nbconvert_exporter": "python",
   "pygments_lexer": "ipython2",
   "version": "2.7.6"
  }
 },
 "nbformat": 4,
 "nbformat_minor": 0
}