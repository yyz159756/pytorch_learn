{
 "cells": [
  {
   "cell_type": "code",
   "execution_count": 1,
   "outputs": [],
   "source": [
    "import torch\n",
    "import torch.nn as nn\n",
    "import torch.nn.functional as F"
   ],
   "metadata": {
    "collapsed": false,
    "pycharm": {
     "name": "#%%\n"
    }
   }
  },
  {
   "cell_type": "code",
   "execution_count": 2,
   "outputs": [
    {
     "name": "stdout",
     "output_type": "stream",
     "text": [
      "torch.Size([1, 2, 3]) # output.shape [bs, seq_len, h_s]\n",
      "torch.Size([1, 1, 3]) # h_n.shape [D=1 * num_layer, bs, h_s]\n"
     ]
    }
   ],
   "source": [
    "def test_rnn_api():\n",
    "    input_size = 4\n",
    "    hidden_size = 3\n",
    "    num_layer = 1\n",
    "    bs = 1\n",
    "    seq_len = 2\n",
    "    h_in = 4\n",
    "    single_rnn = nn.RNN(input_size, hidden_size, num_layer, batch_first=True)\n",
    "    inp = torch.randn(bs, seq_len, h_in)\n",
    "    output, h_n = single_rnn(inp)\n",
    "    print(output.shape, \"# output.shape [bs, seq_len, h_s]\")\n",
    "    print(h_n.shape, \"# h_n.shape [D=1 * num_layer, bs, h_s]\")\n",
    "\n",
    "test_rnn_api()"
   ],
   "metadata": {
    "collapsed": false,
    "pycharm": {
     "name": "#%%\n"
    }
   }
  },
  {
   "cell_type": "code",
   "execution_count": 3,
   "outputs": [
    {
     "name": "stdout",
     "output_type": "stream",
     "text": [
      "torch.Size([1, 2, 6]) # output.shape [bs, seq_len, 2*h_s]\n",
      "torch.Size([2, 1, 3]) # h_n.shape [D=2 * num_layer, bs, 2*h_s]\n",
      "tensor([[[ 0.7566, -0.9316, -0.9310,  0.0466, -0.9255,  0.3446],\n",
      "         [-0.9117,  0.7056,  0.0333, -0.0366, -0.1708, -0.2897]]],\n",
      "       grad_fn=<TransposeBackward1>)\n",
      "tensor([[[-0.9117,  0.7056,  0.0333]],\n",
      "\n",
      "        [[ 0.0466, -0.9255,  0.3446]]], grad_fn=<StackBackward0>)\n"
     ]
    }
   ],
   "source": [
    "def test_bi_rnn_api():\n",
    "    input_size = 4\n",
    "    hidden_size = 3\n",
    "    num_layer = 1\n",
    "    bs = 1\n",
    "    seq_len = 2\n",
    "    h_in = 4\n",
    "    bi_rnn = nn.RNN(input_size, hidden_size, num_layer,\n",
    "                        bidirectional=True, batch_first=True)\n",
    "    inp = torch.randn(bs, seq_len, h_in)\n",
    "    output, h_n = bi_rnn(inp)\n",
    "    print(output.shape, \"# output.shape [bs, seq_len, 2*h_s]\")\n",
    "    print(h_n.shape, \"# h_n.shape [D=2 * num_layer, bs, 2*h_s]\")\n",
    "\n",
    "    print(output)\n",
    "    print(h_n)\n",
    "\n",
    "\n",
    "test_bi_rnn_api()"
   ],
   "metadata": {
    "collapsed": false,
    "pycharm": {
     "name": "#%%\n"
    }
   }
  },
  {
   "cell_type": "code",
   "execution_count": 3,
   "outputs": [],
   "source": [],
   "metadata": {
    "collapsed": false,
    "pycharm": {
     "name": "#%%\n"
    }
   }
  },
  {
   "cell_type": "code",
   "execution_count": null,
   "outputs": [],
   "source": [],
   "metadata": {
    "collapsed": false,
    "pycharm": {
     "name": "#%%\n"
    }
   }
  }
 ],
 "metadata": {
  "kernelspec": {
   "display_name": "Python 3",
   "language": "python",
   "name": "python3"
  },
  "language_info": {
   "codemirror_mode": {
    "name": "ipython",
    "version": 2
   },
   "file_extension": ".py",
   "mimetype": "text/x-python",
   "name": "python",
   "nbconvert_exporter": "python",
   "pygments_lexer": "ipython2",
   "version": "2.7.6"
  }
 },
 "nbformat": 4,
 "nbformat_minor": 0
}