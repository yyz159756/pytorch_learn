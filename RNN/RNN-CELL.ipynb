{
 "cells": [
  {
   "cell_type": "code",
   "execution_count": 16,
   "outputs": [
    {
     "name": "stdout",
     "output_type": "stream",
     "text": [
      "torch.Size([6, 3, 20])\n"
     ]
    }
   ],
   "source": [
    "import torch\n",
    "import torch.nn as nn\n",
    "\n",
    "def test_rnn_cell():\n",
    "    input_size = 10\n",
    "    hidden_size = 20\n",
    "    bs = 3\n",
    "    seq_len = 6\n",
    "    rnn_cell = nn.RNNCell(input_size, hidden_size)\n",
    "    inp = torch.randn(seq_len, bs, input_size)\n",
    "    h_prev = torch.randn(bs, hidden_size)\n",
    "    output = torch.zeros([seq_len, bs, hidden_size])\n",
    "    for i in range(seq_len):\n",
    "        h_prev = rnn_cell(inp[i], h_prev)\n",
    "        output[i] = h_prev\n",
    "\n",
    "    print(output.shape)\n",
    "\n",
    "test_rnn_cell()"
   ],
   "metadata": {
    "collapsed": false,
    "pycharm": {
     "name": "#%%\n"
    }
   }
  },
  {
   "cell_type": "code",
   "execution_count": null,
   "outputs": [],
   "source": [],
   "metadata": {
    "collapsed": false,
    "pycharm": {
     "name": "#%%\n"
    }
   }
  }
 ],
 "metadata": {
  "kernelspec": {
   "display_name": "Python 3",
   "language": "python",
   "name": "python3"
  },
  "language_info": {
   "codemirror_mode": {
    "name": "ipython",
    "version": 2
   },
   "file_extension": ".py",
   "mimetype": "text/x-python",
   "name": "python",
   "nbconvert_exporter": "python",
   "pygments_lexer": "ipython2",
   "version": "2.7.6"
  }
 },
 "nbformat": 4,
 "nbformat_minor": 0
}