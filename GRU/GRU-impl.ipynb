{
 "cells": [
  {
   "cell_type": "code",
   "execution_count": 1,
   "outputs": [],
   "source": [
    "import torch\n",
    "import torch.nn as nn\n",
    "import torch.nn.functional as F"
   ],
   "metadata": {
    "collapsed": false,
    "pycharm": {
     "name": "#%%\n"
    }
   }
  },
  {
   "cell_type": "code",
   "execution_count": 32,
   "outputs": [
    {
     "name": "stdout",
     "output_type": "stream",
     "text": [
      "weight_ih_l0 torch.Size([15, 4])\n",
      "weight_hh_l0 torch.Size([15, 5])\n",
      "bias_ih_l0 torch.Size([15])\n",
      "bias_hh_l0 torch.Size([15])\n",
      "True\n",
      "tensor([[[ 0.2041, -1.3078, -0.9466,  0.2533, -0.6753],\n",
      "         [-0.0092, -1.0803, -0.7793,  0.3769, -0.1754],\n",
      "         [-0.0859, -0.6894, -0.6592,  0.0124,  0.1118]],\n",
      "\n",
      "        [[ 1.0236, -0.7514,  0.0233,  0.1132,  0.1051],\n",
      "         [ 0.8297, -0.3459,  0.0732,  0.1759,  0.2705],\n",
      "         [ 0.7027, -0.2098, -0.0653,  0.1357,  0.5134]]],\n",
      "       grad_fn=<TransposeBackward1>)\n",
      "tensor([[[ 0.2041, -1.3078, -0.9466,  0.2533, -0.6753],\n",
      "         [-0.0092, -1.0803, -0.7793,  0.3769, -0.1754],\n",
      "         [-0.0859, -0.6894, -0.6592,  0.0124,  0.1118]],\n",
      "\n",
      "        [[ 1.0236, -0.7514,  0.0233,  0.1132,  0.1051],\n",
      "         [ 0.8297, -0.3459,  0.0732,  0.1759,  0.2705],\n",
      "         [ 0.7027, -0.2098, -0.0653,  0.1357,  0.5134]]], grad_fn=<CopySlices>)\n"
     ]
    }
   ],
   "source": [
    "def gru_forward(inp, h0, w_ih, w_hh, b_ih, b_hh):\n",
    "    \"\"\"\n",
    "    wih和whh是三个矩阵堆叠\n",
    "    \"\"\"\n",
    "    bs, seq, i_size = inp.shape\n",
    "    h_size = w_ih.shape[0] // 3\n",
    "    prev_h = h0 # [bs, h_dim]\n",
    "\n",
    "    bw_ih = w_ih.unsqueeze(0).tile(bs, 1, 1) # [bs, 3*h_dim, i_size]\n",
    "    bw_hh = w_hh.unsqueeze(0).tile(bs, 1, 1) # [bs, 3*h_dim, h_dim]\n",
    "\n",
    "    output = torch.randn(bs, seq, h_size)\n",
    "\n",
    "    for t in range(seq):\n",
    "        x = inp[:, t, :] # [bs, i_size]\n",
    "        w_times_x = torch.bmm(bw_ih, x.unsqueeze(-1)).squeeze(-1) # [bs, 3*h_d]\n",
    "        w_times_h = torch.bmm(bw_hh, prev_h.unsqueeze(-1)).squeeze(-1) # [bs, 3*h_d]\n",
    "        i = 0\n",
    "        ind_l = h_size * i\n",
    "        ind_r = h_size * (i+1)\n",
    "        r_t = torch.sigmoid(w_times_x[:, ind_l:ind_r] + w_times_h[:, ind_l:ind_r] + b_ih[ind_l:ind_r]\n",
    "                            + b_hh[ind_l:ind_r])\n",
    "        i += 1\n",
    "        ind_l = h_size * i\n",
    "        ind_r = h_size * (i+1)\n",
    "        z_t = torch.sigmoid(w_times_x[:, ind_l:ind_r] + w_times_h[:, ind_l:ind_r] + b_ih[ind_l:ind_r]\n",
    "                            + b_hh[ind_l:ind_r])\n",
    "        # 候选状态\n",
    "        i += 1\n",
    "        ind_l = h_size * i\n",
    "        ind_r = h_size * (i+1)\n",
    "        n_t = torch.tanh(w_times_x[:, ind_l:ind_r]+b_ih[ind_l:ind_r] +\n",
    "                         r_t * (w_times_h[:, ind_l:ind_r] + b_hh[ind_l:ind_r]))\n",
    "        prev_h  = (1-z_t) * n_t + z_t * prev_h\n",
    "        output[:, t, :] = prev_h\n",
    "\n",
    "    return output, prev_h\n",
    "\n",
    "def test_gru_impl():\n",
    "    bs, seq, i_size, h_dim = 2, 3, 4, 5\n",
    "    inp = torch.randn(bs, seq, i_size)\n",
    "\n",
    "    h0 = torch.randn(bs, h_dim)\n",
    "\n",
    "    gru = nn.GRU(i_size, h_dim, batch_first=True)\n",
    "    res1, _ = gru(inp, h0.unsqueeze(0))\n",
    "\n",
    "    for k, v in gru.named_parameters():\n",
    "        print(k, v.shape)\n",
    "    w_ih = gru.weight_ih_l0\n",
    "    w_hh = gru.weight_hh_l0\n",
    "    b_ih = gru.bias_ih_l0\n",
    "    b_hh = gru.bias_hh_l0\n",
    "    res2, _ = gru_forward(inp, h0, w_ih, w_hh, b_ih, b_hh)\n",
    "    print(torch.allclose(res1, res2))\n",
    "    print(res1)\n",
    "    print(res2)\n",
    "\n",
    "\n",
    "test_gru_impl()\n"
   ],
   "metadata": {
    "collapsed": false,
    "pycharm": {
     "name": "#%%\n"
    }
   }
  }
 ],
 "metadata": {
  "kernelspec": {
   "display_name": "Python 3",
   "language": "python",
   "name": "python3"
  },
  "language_info": {
   "codemirror_mode": {
    "name": "ipython",
    "version": 2
   },
   "file_extension": ".py",
   "mimetype": "text/x-python",
   "name": "python",
   "nbconvert_exporter": "python",
   "pygments_lexer": "ipython2",
   "version": "2.7.6"
  }
 },
 "nbformat": 4,
 "nbformat_minor": 0
}